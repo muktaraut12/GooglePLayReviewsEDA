{
  "nbformat": 4,
  "nbformat_minor": 0,
  "metadata": {
    "colab": {
      "provenance": [],
      "authorship_tag": "ABX9TyPhFKnS2/sV+VchltZ3NOmw",
      "include_colab_link": true
    },
    "kernelspec": {
      "name": "python3",
      "display_name": "Python 3"
    },
    "language_info": {
      "name": "python"
    }
  },
  "cells": [
    {
      "cell_type": "markdown",
      "metadata": {
        "id": "view-in-github",
        "colab_type": "text"
      },
      "source": [
        "<a href=\"https://colab.research.google.com/github/muktaraut12/GooglePLayReviewsEDA/blob/main/PlayStoreAppReviewAnalysis.ipynb\" target=\"_parent\"><img src=\"https://colab.research.google.com/assets/colab-badge.svg\" alt=\"Open In Colab\"/></a>"
      ]
    },
    {
      "cell_type": "markdown",
      "source": [
        "# **Project Name - Play Store App Review Analysis**"
      ],
      "metadata": {
        "id": "gYpYU6iZvo35"
      }
    },
    {
      "cell_type": "markdown",
      "source": [
        "**Porject Type-** EDA\n",
        "\n",
        "**Contribution-** Individual"
      ],
      "metadata": {
        "id": "gcdXKRHQv2aQ"
      }
    },
    {
      "cell_type": "markdown",
      "source": [
        "## **Introduction**"
      ],
      "metadata": {
        "id": "BkIR4jy58382"
      }
    },
    {
      "cell_type": "markdown",
      "source": [
        "The Google Play store app data contains underlying hidden information that can have a significant impact on the app development industry. Our project's purpose is to analyze trends and patterns in the Android industry and derive actionable insights for developers to assist them launch a successful app in a competitive market. Each row (labelled app) in the collection has values, ratings, size, and many other attributes. Another dataset comprises consumer reviews and feedback regarding the app, which is crucial in determining the app's importance.\n",
        "\n",
        "The challenging task is to sift through the large dataset and discover the fundamental truth behind app development and success.\n"
      ],
      "metadata": {
        "id": "sHN8AAq-86u1"
      }
    },
    {
      "cell_type": "markdown",
      "source": [
        "## **Problem Statement**"
      ],
      "metadata": {
        "id": "3MqNrse5toIA"
      }
    },
    {
      "cell_type": "markdown",
      "source": [
        "**BUSINESS PROBLEM OVERVIEW**\n",
        "\n",
        "Analysing the Play Store app is critical for the success of the app-driven market. In the current context, customer reviews play a significant role in comprehending the app's functionality and usage. A thorough and detailed analysis will help developers in developing an app while keeping current trends and patterns in mind.\n",
        "\n",
        "\n",
        "In this project, we will be addressing the following significant issues:\n",
        "\n",
        "\n",
        "Problem 1: What are the top 10 most competing catagories in playstore ?\n",
        "\n",
        "Problem 2: Which genres are the most popular and least popular in playstore ?\n",
        "\n",
        "Problem 3: What are the frequency distributions of Rating, Price, Last Updated, Sentiment Polarity and Sentiment Subjectivity column(Mean value range) ?\n",
        "\n",
        "Problem 4: Does last update year affects the average rating ?\n",
        "\n",
        "Probblem 5: What are the percentage of paid and free apps ?\n",
        "\n",
        "Problem 6: Determine the outliers in the rating column ?\n",
        "\n",
        "Problem 7: Is there any correlation between Sentiment polarity/Sentiment subjectivity with Installs/Rating/Reviews ?\n",
        "\n",
        "Problem 8: What are the top 5 apps that have generated the highest revenue ?\n"
      ],
      "metadata": {
        "id": "Eim7-92zCImW"
      }
    },
    {
      "cell_type": "markdown",
      "source": [
        "## **Business Objective**"
      ],
      "metadata": {
        "id": "sMjRAt-DDr7u"
      }
    },
    {
      "cell_type": "markdown",
      "source": [
        "Discover key factors responsible for app engagement and success."
      ],
      "metadata": {
        "id": "mug3mYsuDycP"
      }
    },
    {
      "cell_type": "markdown",
      "source": [
        "# **Let's Begin**"
      ],
      "metadata": {
        "id": "Xy_rDkxEEbsO"
      }
    },
    {
      "cell_type": "markdown",
      "source": [
        "## **Import Libraries**"
      ],
      "metadata": {
        "id": "Ial_m59jEeph"
      }
    },
    {
      "cell_type": "code",
      "execution_count": null,
      "metadata": {
        "id": "xL5JW9p8tJi6"
      },
      "outputs": [],
      "source": []
    }
  ]
}